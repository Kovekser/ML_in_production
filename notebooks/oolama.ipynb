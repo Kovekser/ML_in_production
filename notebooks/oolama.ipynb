{
 "cells": [
  {
   "cell_type": "code",
   "execution_count": 1,
   "id": "9a76f1f8-05bb-4b46-8e24-a05bbc7f178d",
   "metadata": {},
   "outputs": [
    {
     "name": "stdout",
     "output_type": "stream",
     "text": [
      "Collecting ollama\n",
      "  Downloading ollama-0.3.3-py3-none-any.whl.metadata (3.8 kB)\n",
      "Requirement already satisfied: httpx<0.28.0,>=0.27.0 in /Users/katerynakovalenko/.local/share/virtualenvs/ML_in_production-g-3Ydfhx/lib/python3.12/site-packages (from ollama) (0.27.2)\n",
      "Requirement already satisfied: anyio in /Users/katerynakovalenko/.local/share/virtualenvs/ML_in_production-g-3Ydfhx/lib/python3.12/site-packages (from httpx<0.28.0,>=0.27.0->ollama) (4.6.0)\n",
      "Requirement already satisfied: certifi in /Users/katerynakovalenko/.local/share/virtualenvs/ML_in_production-g-3Ydfhx/lib/python3.12/site-packages (from httpx<0.28.0,>=0.27.0->ollama) (2024.8.30)\n",
      "Requirement already satisfied: httpcore==1.* in /Users/katerynakovalenko/.local/share/virtualenvs/ML_in_production-g-3Ydfhx/lib/python3.12/site-packages (from httpx<0.28.0,>=0.27.0->ollama) (1.0.5)\n",
      "Requirement already satisfied: idna in /Users/katerynakovalenko/.local/share/virtualenvs/ML_in_production-g-3Ydfhx/lib/python3.12/site-packages (from httpx<0.28.0,>=0.27.0->ollama) (3.10)\n",
      "Requirement already satisfied: sniffio in /Users/katerynakovalenko/.local/share/virtualenvs/ML_in_production-g-3Ydfhx/lib/python3.12/site-packages (from httpx<0.28.0,>=0.27.0->ollama) (1.3.1)\n",
      "Requirement already satisfied: h11<0.15,>=0.13 in /Users/katerynakovalenko/.local/share/virtualenvs/ML_in_production-g-3Ydfhx/lib/python3.12/site-packages (from httpcore==1.*->httpx<0.28.0,>=0.27.0->ollama) (0.14.0)\n",
      "Downloading ollama-0.3.3-py3-none-any.whl (10 kB)\n",
      "Installing collected packages: ollama\n",
      "Successfully installed ollama-0.3.3\n",
      "Note: you may need to restart the kernel to use updated packages.\n"
     ]
    }
   ],
   "source": [
    "pip install ollama"
   ]
  },
  {
   "cell_type": "code",
   "execution_count": 2,
   "id": "c0d3c67d-d6c6-473a-adbe-7fedbe455044",
   "metadata": {},
   "outputs": [
    {
     "name": "stdout",
     "output_type": "stream",
     "text": [
      "Collecting langgraph\n",
      "  Downloading langgraph-0.2.32-py3-none-any.whl.metadata (13 kB)\n",
      "Collecting langchain-core<0.4,>=0.2.39 (from langgraph)\n",
      "  Downloading langchain_core-0.3.7-py3-none-any.whl.metadata (6.3 kB)\n",
      "Collecting langgraph-checkpoint<3.0.0,>=2.0.0 (from langgraph)\n",
      "  Downloading langgraph_checkpoint-2.0.0-py3-none-any.whl.metadata (4.6 kB)\n",
      "Requirement already satisfied: PyYAML>=5.3 in /Users/katerynakovalenko/.local/share/virtualenvs/ML_in_production-g-3Ydfhx/lib/python3.12/site-packages (from langchain-core<0.4,>=0.2.39->langgraph) (6.0.2)\n",
      "Collecting jsonpatch<2.0,>=1.33 (from langchain-core<0.4,>=0.2.39->langgraph)\n",
      "  Downloading jsonpatch-1.33-py2.py3-none-any.whl.metadata (3.0 kB)\n",
      "Collecting langsmith<0.2.0,>=0.1.125 (from langchain-core<0.4,>=0.2.39->langgraph)\n",
      "  Downloading langsmith-0.1.129-py3-none-any.whl.metadata (13 kB)\n",
      "Requirement already satisfied: packaging<25,>=23.2 in /Users/katerynakovalenko/.local/share/virtualenvs/ML_in_production-g-3Ydfhx/lib/python3.12/site-packages (from langchain-core<0.4,>=0.2.39->langgraph) (24.1)\n",
      "Requirement already satisfied: pydantic<3.0.0,>=2.7.4 in /Users/katerynakovalenko/.local/share/virtualenvs/ML_in_production-g-3Ydfhx/lib/python3.12/site-packages (from langchain-core<0.4,>=0.2.39->langgraph) (2.9.2)\n",
      "Collecting tenacity!=8.4.0,<9.0.0,>=8.1.0 (from langchain-core<0.4,>=0.2.39->langgraph)\n",
      "  Downloading tenacity-8.5.0-py3-none-any.whl.metadata (1.2 kB)\n",
      "Requirement already satisfied: typing-extensions>=4.7 in /Users/katerynakovalenko/.local/share/virtualenvs/ML_in_production-g-3Ydfhx/lib/python3.12/site-packages (from langchain-core<0.4,>=0.2.39->langgraph) (4.12.2)\n",
      "Collecting msgpack<2.0.0,>=1.1.0 (from langgraph-checkpoint<3.0.0,>=2.0.0->langgraph)\n",
      "  Downloading msgpack-1.1.0-cp312-cp312-macosx_11_0_arm64.whl.metadata (8.4 kB)\n",
      "Requirement already satisfied: jsonpointer>=1.9 in /Users/katerynakovalenko/.local/share/virtualenvs/ML_in_production-g-3Ydfhx/lib/python3.12/site-packages (from jsonpatch<2.0,>=1.33->langchain-core<0.4,>=0.2.39->langgraph) (3.0.0)\n",
      "Requirement already satisfied: httpx<1,>=0.23.0 in /Users/katerynakovalenko/.local/share/virtualenvs/ML_in_production-g-3Ydfhx/lib/python3.12/site-packages (from langsmith<0.2.0,>=0.1.125->langchain-core<0.4,>=0.2.39->langgraph) (0.27.2)\n",
      "Requirement already satisfied: orjson<4.0.0,>=3.9.14 in /Users/katerynakovalenko/.local/share/virtualenvs/ML_in_production-g-3Ydfhx/lib/python3.12/site-packages (from langsmith<0.2.0,>=0.1.125->langchain-core<0.4,>=0.2.39->langgraph) (3.10.7)\n",
      "Requirement already satisfied: requests<3,>=2 in /Users/katerynakovalenko/.local/share/virtualenvs/ML_in_production-g-3Ydfhx/lib/python3.12/site-packages (from langsmith<0.2.0,>=0.1.125->langchain-core<0.4,>=0.2.39->langgraph) (2.32.3)\n",
      "Requirement already satisfied: annotated-types>=0.6.0 in /Users/katerynakovalenko/.local/share/virtualenvs/ML_in_production-g-3Ydfhx/lib/python3.12/site-packages (from pydantic<3.0.0,>=2.7.4->langchain-core<0.4,>=0.2.39->langgraph) (0.7.0)\n",
      "Requirement already satisfied: pydantic-core==2.23.4 in /Users/katerynakovalenko/.local/share/virtualenvs/ML_in_production-g-3Ydfhx/lib/python3.12/site-packages (from pydantic<3.0.0,>=2.7.4->langchain-core<0.4,>=0.2.39->langgraph) (2.23.4)\n",
      "Requirement already satisfied: anyio in /Users/katerynakovalenko/.local/share/virtualenvs/ML_in_production-g-3Ydfhx/lib/python3.12/site-packages (from httpx<1,>=0.23.0->langsmith<0.2.0,>=0.1.125->langchain-core<0.4,>=0.2.39->langgraph) (4.6.0)\n",
      "Requirement already satisfied: certifi in /Users/katerynakovalenko/.local/share/virtualenvs/ML_in_production-g-3Ydfhx/lib/python3.12/site-packages (from httpx<1,>=0.23.0->langsmith<0.2.0,>=0.1.125->langchain-core<0.4,>=0.2.39->langgraph) (2024.8.30)\n",
      "Requirement already satisfied: httpcore==1.* in /Users/katerynakovalenko/.local/share/virtualenvs/ML_in_production-g-3Ydfhx/lib/python3.12/site-packages (from httpx<1,>=0.23.0->langsmith<0.2.0,>=0.1.125->langchain-core<0.4,>=0.2.39->langgraph) (1.0.5)\n",
      "Requirement already satisfied: idna in /Users/katerynakovalenko/.local/share/virtualenvs/ML_in_production-g-3Ydfhx/lib/python3.12/site-packages (from httpx<1,>=0.23.0->langsmith<0.2.0,>=0.1.125->langchain-core<0.4,>=0.2.39->langgraph) (3.10)\n",
      "Requirement already satisfied: sniffio in /Users/katerynakovalenko/.local/share/virtualenvs/ML_in_production-g-3Ydfhx/lib/python3.12/site-packages (from httpx<1,>=0.23.0->langsmith<0.2.0,>=0.1.125->langchain-core<0.4,>=0.2.39->langgraph) (1.3.1)\n",
      "Requirement already satisfied: h11<0.15,>=0.13 in /Users/katerynakovalenko/.local/share/virtualenvs/ML_in_production-g-3Ydfhx/lib/python3.12/site-packages (from httpcore==1.*->httpx<1,>=0.23.0->langsmith<0.2.0,>=0.1.125->langchain-core<0.4,>=0.2.39->langgraph) (0.14.0)\n",
      "Requirement already satisfied: charset-normalizer<4,>=2 in /Users/katerynakovalenko/.local/share/virtualenvs/ML_in_production-g-3Ydfhx/lib/python3.12/site-packages (from requests<3,>=2->langsmith<0.2.0,>=0.1.125->langchain-core<0.4,>=0.2.39->langgraph) (3.3.2)\n",
      "Requirement already satisfied: urllib3<3,>=1.21.1 in /Users/katerynakovalenko/.local/share/virtualenvs/ML_in_production-g-3Ydfhx/lib/python3.12/site-packages (from requests<3,>=2->langsmith<0.2.0,>=0.1.125->langchain-core<0.4,>=0.2.39->langgraph) (2.2.3)\n",
      "Downloading langgraph-0.2.32-py3-none-any.whl (106 kB)\n",
      "Downloading langchain_core-0.3.7-py3-none-any.whl (400 kB)\n",
      "Downloading langgraph_checkpoint-2.0.0-py3-none-any.whl (22 kB)\n",
      "Downloading jsonpatch-1.33-py2.py3-none-any.whl (12 kB)\n",
      "Downloading langsmith-0.1.129-py3-none-any.whl (292 kB)\n",
      "Downloading msgpack-1.1.0-cp312-cp312-macosx_11_0_arm64.whl (82 kB)\n",
      "Downloading tenacity-8.5.0-py3-none-any.whl (28 kB)\n",
      "Installing collected packages: tenacity, msgpack, jsonpatch, langsmith, langchain-core, langgraph-checkpoint, langgraph\n",
      "  Attempting uninstall: msgpack\n",
      "    Found existing installation: msgpack 1.0.8\n",
      "    Uninstalling msgpack-1.0.8:\n",
      "      Successfully uninstalled msgpack-1.0.8\n",
      "Successfully installed jsonpatch-1.33 langchain-core-0.3.7 langgraph-0.2.32 langgraph-checkpoint-2.0.0 langsmith-0.1.129 msgpack-1.1.0 tenacity-8.5.0\n",
      "Note: you may need to restart the kernel to use updated packages.\n"
     ]
    }
   ],
   "source": [
    "pip install langgraph"
   ]
  },
  {
   "cell_type": "code",
   "execution_count": 3,
   "id": "ca51caee-b769-4fc5-8b98-aec9f9cef3bd",
   "metadata": {},
   "outputs": [
    {
     "name": "stdout",
     "output_type": "stream",
     "text": [
      "Collecting langchain\n",
      "  Downloading langchain-0.3.1-py3-none-any.whl.metadata (7.1 kB)\n",
      "Requirement already satisfied: PyYAML>=5.3 in /Users/katerynakovalenko/.local/share/virtualenvs/ML_in_production-g-3Ydfhx/lib/python3.12/site-packages (from langchain) (6.0.2)\n",
      "Collecting SQLAlchemy<3,>=1.4 (from langchain)\n",
      "  Downloading SQLAlchemy-2.0.35-cp312-cp312-macosx_11_0_arm64.whl.metadata (9.6 kB)\n",
      "Requirement already satisfied: aiohttp<4.0.0,>=3.8.3 in /Users/katerynakovalenko/.local/share/virtualenvs/ML_in_production-g-3Ydfhx/lib/python3.12/site-packages (from langchain) (3.10.5)\n",
      "Requirement already satisfied: langchain-core<0.4.0,>=0.3.6 in /Users/katerynakovalenko/.local/share/virtualenvs/ML_in_production-g-3Ydfhx/lib/python3.12/site-packages (from langchain) (0.3.7)\n",
      "Collecting langchain-text-splitters<0.4.0,>=0.3.0 (from langchain)\n",
      "  Downloading langchain_text_splitters-0.3.0-py3-none-any.whl.metadata (2.3 kB)\n",
      "Requirement already satisfied: langsmith<0.2.0,>=0.1.17 in /Users/katerynakovalenko/.local/share/virtualenvs/ML_in_production-g-3Ydfhx/lib/python3.12/site-packages (from langchain) (0.1.129)\n",
      "Collecting numpy<2.0.0,>=1.26.0 (from langchain)\n",
      "  Using cached numpy-1.26.4-cp312-cp312-macosx_11_0_arm64.whl.metadata (61 kB)\n",
      "Requirement already satisfied: pydantic<3.0.0,>=2.7.4 in /Users/katerynakovalenko/.local/share/virtualenvs/ML_in_production-g-3Ydfhx/lib/python3.12/site-packages (from langchain) (2.9.2)\n",
      "Requirement already satisfied: requests<3,>=2 in /Users/katerynakovalenko/.local/share/virtualenvs/ML_in_production-g-3Ydfhx/lib/python3.12/site-packages (from langchain) (2.32.3)\n",
      "Requirement already satisfied: tenacity!=8.4.0,<9.0.0,>=8.1.0 in /Users/katerynakovalenko/.local/share/virtualenvs/ML_in_production-g-3Ydfhx/lib/python3.12/site-packages (from langchain) (8.5.0)\n",
      "Requirement already satisfied: aiohappyeyeballs>=2.3.0 in /Users/katerynakovalenko/.local/share/virtualenvs/ML_in_production-g-3Ydfhx/lib/python3.12/site-packages (from aiohttp<4.0.0,>=3.8.3->langchain) (2.4.0)\n",
      "Requirement already satisfied: aiosignal>=1.1.2 in /Users/katerynakovalenko/.local/share/virtualenvs/ML_in_production-g-3Ydfhx/lib/python3.12/site-packages (from aiohttp<4.0.0,>=3.8.3->langchain) (1.3.1)\n",
      "Requirement already satisfied: attrs>=17.3.0 in /Users/katerynakovalenko/.local/share/virtualenvs/ML_in_production-g-3Ydfhx/lib/python3.12/site-packages (from aiohttp<4.0.0,>=3.8.3->langchain) (24.2.0)\n",
      "Requirement already satisfied: frozenlist>=1.1.1 in /Users/katerynakovalenko/.local/share/virtualenvs/ML_in_production-g-3Ydfhx/lib/python3.12/site-packages (from aiohttp<4.0.0,>=3.8.3->langchain) (1.4.1)\n",
      "Requirement already satisfied: multidict<7.0,>=4.5 in /Users/katerynakovalenko/.local/share/virtualenvs/ML_in_production-g-3Ydfhx/lib/python3.12/site-packages (from aiohttp<4.0.0,>=3.8.3->langchain) (6.1.0)\n",
      "Requirement already satisfied: yarl<2.0,>=1.0 in /Users/katerynakovalenko/.local/share/virtualenvs/ML_in_production-g-3Ydfhx/lib/python3.12/site-packages (from aiohttp<4.0.0,>=3.8.3->langchain) (1.11.1)\n",
      "Requirement already satisfied: jsonpatch<2.0,>=1.33 in /Users/katerynakovalenko/.local/share/virtualenvs/ML_in_production-g-3Ydfhx/lib/python3.12/site-packages (from langchain-core<0.4.0,>=0.3.6->langchain) (1.33)\n",
      "Requirement already satisfied: packaging<25,>=23.2 in /Users/katerynakovalenko/.local/share/virtualenvs/ML_in_production-g-3Ydfhx/lib/python3.12/site-packages (from langchain-core<0.4.0,>=0.3.6->langchain) (24.1)\n",
      "Requirement already satisfied: typing-extensions>=4.7 in /Users/katerynakovalenko/.local/share/virtualenvs/ML_in_production-g-3Ydfhx/lib/python3.12/site-packages (from langchain-core<0.4.0,>=0.3.6->langchain) (4.12.2)\n",
      "Requirement already satisfied: httpx<1,>=0.23.0 in /Users/katerynakovalenko/.local/share/virtualenvs/ML_in_production-g-3Ydfhx/lib/python3.12/site-packages (from langsmith<0.2.0,>=0.1.17->langchain) (0.27.2)\n",
      "Requirement already satisfied: orjson<4.0.0,>=3.9.14 in /Users/katerynakovalenko/.local/share/virtualenvs/ML_in_production-g-3Ydfhx/lib/python3.12/site-packages (from langsmith<0.2.0,>=0.1.17->langchain) (3.10.7)\n",
      "Requirement already satisfied: annotated-types>=0.6.0 in /Users/katerynakovalenko/.local/share/virtualenvs/ML_in_production-g-3Ydfhx/lib/python3.12/site-packages (from pydantic<3.0.0,>=2.7.4->langchain) (0.7.0)\n",
      "Requirement already satisfied: pydantic-core==2.23.4 in /Users/katerynakovalenko/.local/share/virtualenvs/ML_in_production-g-3Ydfhx/lib/python3.12/site-packages (from pydantic<3.0.0,>=2.7.4->langchain) (2.23.4)\n",
      "Requirement already satisfied: charset-normalizer<4,>=2 in /Users/katerynakovalenko/.local/share/virtualenvs/ML_in_production-g-3Ydfhx/lib/python3.12/site-packages (from requests<3,>=2->langchain) (3.3.2)\n",
      "Requirement already satisfied: idna<4,>=2.5 in /Users/katerynakovalenko/.local/share/virtualenvs/ML_in_production-g-3Ydfhx/lib/python3.12/site-packages (from requests<3,>=2->langchain) (3.10)\n",
      "Requirement already satisfied: urllib3<3,>=1.21.1 in /Users/katerynakovalenko/.local/share/virtualenvs/ML_in_production-g-3Ydfhx/lib/python3.12/site-packages (from requests<3,>=2->langchain) (2.2.3)\n",
      "Requirement already satisfied: certifi>=2017.4.17 in /Users/katerynakovalenko/.local/share/virtualenvs/ML_in_production-g-3Ydfhx/lib/python3.12/site-packages (from requests<3,>=2->langchain) (2024.8.30)\n",
      "Requirement already satisfied: anyio in /Users/katerynakovalenko/.local/share/virtualenvs/ML_in_production-g-3Ydfhx/lib/python3.12/site-packages (from httpx<1,>=0.23.0->langsmith<0.2.0,>=0.1.17->langchain) (4.6.0)\n",
      "Requirement already satisfied: httpcore==1.* in /Users/katerynakovalenko/.local/share/virtualenvs/ML_in_production-g-3Ydfhx/lib/python3.12/site-packages (from httpx<1,>=0.23.0->langsmith<0.2.0,>=0.1.17->langchain) (1.0.5)\n",
      "Requirement already satisfied: sniffio in /Users/katerynakovalenko/.local/share/virtualenvs/ML_in_production-g-3Ydfhx/lib/python3.12/site-packages (from httpx<1,>=0.23.0->langsmith<0.2.0,>=0.1.17->langchain) (1.3.1)\n",
      "Requirement already satisfied: h11<0.15,>=0.13 in /Users/katerynakovalenko/.local/share/virtualenvs/ML_in_production-g-3Ydfhx/lib/python3.12/site-packages (from httpcore==1.*->httpx<1,>=0.23.0->langsmith<0.2.0,>=0.1.17->langchain) (0.14.0)\n",
      "Requirement already satisfied: jsonpointer>=1.9 in /Users/katerynakovalenko/.local/share/virtualenvs/ML_in_production-g-3Ydfhx/lib/python3.12/site-packages (from jsonpatch<2.0,>=1.33->langchain-core<0.4.0,>=0.3.6->langchain) (3.0.0)\n",
      "Downloading langchain-0.3.1-py3-none-any.whl (1.0 MB)\n",
      "\u001b[2K   \u001b[38;2;114;156;31m━━━━━━━━━━━━━━━━━━━━━━━━━━━━━━━━━━━━━━━━\u001b[0m \u001b[32m1.0/1.0 MB\u001b[0m \u001b[31m4.6 MB/s\u001b[0m eta \u001b[36m0:00:00\u001b[0m[31m4.5 MB/s\u001b[0m eta \u001b[36m0:00:01\u001b[0m\n",
      "\u001b[?25hDownloading langchain_text_splitters-0.3.0-py3-none-any.whl (25 kB)\n",
      "Using cached numpy-1.26.4-cp312-cp312-macosx_11_0_arm64.whl (13.7 MB)\n",
      "Downloading SQLAlchemy-2.0.35-cp312-cp312-macosx_11_0_arm64.whl (2.1 MB)\n",
      "\u001b[2K   \u001b[38;2;114;156;31m━━━━━━━━━━━━━━━━━━━━━━━━━━━━━━━━━━━━━━━━\u001b[0m \u001b[32m2.1/2.1 MB\u001b[0m \u001b[31m5.2 MB/s\u001b[0m eta \u001b[36m0:00:00\u001b[0m MB/s\u001b[0m eta \u001b[36m0:00:01\u001b[0m\n",
      "\u001b[?25hInstalling collected packages: SQLAlchemy, numpy, langchain-text-splitters, langchain\n",
      "  Attempting uninstall: numpy\n",
      "    Found existing installation: numpy 2.1.1\n",
      "    Uninstalling numpy-2.1.1:\n",
      "      Successfully uninstalled numpy-2.1.1\n",
      "\u001b[31mERROR: pip's dependency resolver does not currently take into account all the packages that are installed. This behaviour is the source of the following dependency conflicts.\n",
      "torchvision 0.19.1 requires torch==2.4.1, but you have torch 2.3.1 which is incompatible.\n",
      "relik 1.0.6 requires datasets<2.15,>=2.13, but you have datasets 3.0.0 which is incompatible.\u001b[0m\u001b[31m\n",
      "\u001b[0mSuccessfully installed SQLAlchemy-2.0.35 langchain-0.3.1 langchain-text-splitters-0.3.0 numpy-1.26.4\n",
      "Note: you may need to restart the kernel to use updated packages.\n"
     ]
    }
   ],
   "source": [
    "pip install langchain"
   ]
  },
  {
   "cell_type": "code",
   "execution_count": 1,
   "id": "4dc8f542-c9ea-4bf1-b7ff-b01735fdbd68",
   "metadata": {},
   "outputs": [],
   "source": [
    "import ollama"
   ]
  },
  {
   "cell_type": "code",
   "execution_count": 5,
   "id": "c3a73b31-7e3c-4525-9cf3-91c4d910a3d3",
   "metadata": {},
   "outputs": [],
   "source": [
    "llm = \"llama3.2\"\n",
    "q = '''who died on September 9, 2024?'''"
   ]
  },
  {
   "cell_type": "code",
   "execution_count": 6,
   "id": "59498041-f80a-4e60-9153-1834c70401d5",
   "metadata": {},
   "outputs": [
    {
     "name": "stdout",
     "output_type": "stream",
     "text": [
      "Collecting duckduckgo-search\n",
      "  Downloading duckduckgo_search-6.2.13-py3-none-any.whl.metadata (25 kB)\n",
      "Requirement already satisfied: click>=8.1.7 in /Users/katerynakovalenko/.local/share/virtualenvs/ML_in_production-g-3Ydfhx/lib/python3.12/site-packages (from duckduckgo-search) (8.1.7)\n",
      "Collecting primp>=0.6.3 (from duckduckgo-search)\n",
      "  Downloading primp-0.6.3-cp38-abi3-macosx_11_0_arm64.whl.metadata (10 kB)\n",
      "Downloading duckduckgo_search-6.2.13-py3-none-any.whl (27 kB)\n",
      "Downloading primp-0.6.3-cp38-abi3-macosx_11_0_arm64.whl (2.5 MB)\n",
      "\u001b[2K   \u001b[38;2;114;156;31m━━━━━━━━━━━━━━━━━━━━━━━━━━━━━━━━━━━━━━━━\u001b[0m \u001b[32m2.5/2.5 MB\u001b[0m \u001b[31m505.0 kB/s\u001b[0m eta \u001b[36m0:00:00\u001b[0m kB/s\u001b[0m eta \u001b[36m0:00:01\u001b[0m:02\u001b[0m\n",
      "\u001b[?25hInstalling collected packages: primp, duckduckgo-search\n",
      "Successfully installed duckduckgo-search-6.2.13 primp-0.6.3\n",
      "Note: you may need to restart the kernel to use updated packages.\n"
     ]
    }
   ],
   "source": [
    "pip install duckduckgo-search"
   ]
  },
  {
   "cell_type": "code",
   "execution_count": 7,
   "id": "6db5635e-ec2c-4476-99b2-7fb9bbc0fde7",
   "metadata": {},
   "outputs": [],
   "source": [
    "res = ollama.chat(model=llm, \n",
    "                  messages=[{\"role\":\"system\", \"content\":\"\"},\n",
    "                            {\"role\":\"user\", \"content\":q}])"
   ]
  },
  {
   "cell_type": "code",
   "execution_count": 8,
   "id": "95f0d5a6-9dd3-4740-8af1-99da2d48acb1",
   "metadata": {},
   "outputs": [
    {
     "data": {
      "text/plain": [
       "{'model': 'llama3.2',\n",
       " 'created_at': '2024-10-02T13:54:43.411248Z',\n",
       " 'message': {'role': 'assistant',\n",
       "  'content': \"I don't have any information about who died on September 9, 2024. My training data is up to date until December 2023, and I do not have real-time access to current events or recent news. If you're looking for information on a specific person's death, I recommend checking reputable news sources or official announcements for the most accurate and up-to-date information.\"},\n",
       " 'done_reason': 'stop',\n",
       " 'done': True,\n",
       " 'total_duration': 4352220083,\n",
       " 'load_duration': 35710167,\n",
       " 'prompt_eval_count': 36,\n",
       " 'prompt_eval_duration': 784720000,\n",
       " 'eval_count': 79,\n",
       " 'eval_duration': 3532290000}"
      ]
     },
     "execution_count": 8,
     "metadata": {},
     "output_type": "execute_result"
    }
   ],
   "source": [
    "res"
   ]
  },
  {
   "cell_type": "code",
   "execution_count": 11,
   "id": "20919ca1-e059-4f01-be72-aeae8e4e697f",
   "metadata": {},
   "outputs": [
    {
     "name": "stdout",
     "output_type": "stream",
     "text": [
      "Collecting langchain_community\n",
      "  Downloading langchain_community-0.3.1-py3-none-any.whl.metadata (2.8 kB)\n",
      "Requirement already satisfied: PyYAML>=5.3 in /Users/katerynakovalenko/.local/share/virtualenvs/ML_in_production-g-3Ydfhx/lib/python3.12/site-packages (from langchain_community) (6.0.2)\n",
      "Requirement already satisfied: SQLAlchemy<3,>=1.4 in /Users/katerynakovalenko/.local/share/virtualenvs/ML_in_production-g-3Ydfhx/lib/python3.12/site-packages (from langchain_community) (2.0.35)\n",
      "Requirement already satisfied: aiohttp<4.0.0,>=3.8.3 in /Users/katerynakovalenko/.local/share/virtualenvs/ML_in_production-g-3Ydfhx/lib/python3.12/site-packages (from langchain_community) (3.10.5)\n",
      "Collecting dataclasses-json<0.7,>=0.5.7 (from langchain_community)\n",
      "  Downloading dataclasses_json-0.6.7-py3-none-any.whl.metadata (25 kB)\n",
      "Requirement already satisfied: langchain<0.4.0,>=0.3.1 in /Users/katerynakovalenko/.local/share/virtualenvs/ML_in_production-g-3Ydfhx/lib/python3.12/site-packages (from langchain_community) (0.3.1)\n",
      "Requirement already satisfied: langchain-core<0.4.0,>=0.3.6 in /Users/katerynakovalenko/.local/share/virtualenvs/ML_in_production-g-3Ydfhx/lib/python3.12/site-packages (from langchain_community) (0.3.7)\n",
      "Requirement already satisfied: langsmith<0.2.0,>=0.1.125 in /Users/katerynakovalenko/.local/share/virtualenvs/ML_in_production-g-3Ydfhx/lib/python3.12/site-packages (from langchain_community) (0.1.129)\n",
      "Requirement already satisfied: numpy<2.0.0,>=1.26.0 in /Users/katerynakovalenko/.local/share/virtualenvs/ML_in_production-g-3Ydfhx/lib/python3.12/site-packages (from langchain_community) (1.26.4)\n",
      "Collecting pydantic-settings<3.0.0,>=2.4.0 (from langchain_community)\n",
      "  Downloading pydantic_settings-2.5.2-py3-none-any.whl.metadata (3.5 kB)\n",
      "Requirement already satisfied: requests<3,>=2 in /Users/katerynakovalenko/.local/share/virtualenvs/ML_in_production-g-3Ydfhx/lib/python3.12/site-packages (from langchain_community) (2.32.3)\n",
      "Requirement already satisfied: tenacity!=8.4.0,<9.0.0,>=8.1.0 in /Users/katerynakovalenko/.local/share/virtualenvs/ML_in_production-g-3Ydfhx/lib/python3.12/site-packages (from langchain_community) (8.5.0)\n",
      "Requirement already satisfied: aiohappyeyeballs>=2.3.0 in /Users/katerynakovalenko/.local/share/virtualenvs/ML_in_production-g-3Ydfhx/lib/python3.12/site-packages (from aiohttp<4.0.0,>=3.8.3->langchain_community) (2.4.0)\n",
      "Requirement already satisfied: aiosignal>=1.1.2 in /Users/katerynakovalenko/.local/share/virtualenvs/ML_in_production-g-3Ydfhx/lib/python3.12/site-packages (from aiohttp<4.0.0,>=3.8.3->langchain_community) (1.3.1)\n",
      "Requirement already satisfied: attrs>=17.3.0 in /Users/katerynakovalenko/.local/share/virtualenvs/ML_in_production-g-3Ydfhx/lib/python3.12/site-packages (from aiohttp<4.0.0,>=3.8.3->langchain_community) (24.2.0)\n",
      "Requirement already satisfied: frozenlist>=1.1.1 in /Users/katerynakovalenko/.local/share/virtualenvs/ML_in_production-g-3Ydfhx/lib/python3.12/site-packages (from aiohttp<4.0.0,>=3.8.3->langchain_community) (1.4.1)\n",
      "Requirement already satisfied: multidict<7.0,>=4.5 in /Users/katerynakovalenko/.local/share/virtualenvs/ML_in_production-g-3Ydfhx/lib/python3.12/site-packages (from aiohttp<4.0.0,>=3.8.3->langchain_community) (6.1.0)\n",
      "Requirement already satisfied: yarl<2.0,>=1.0 in /Users/katerynakovalenko/.local/share/virtualenvs/ML_in_production-g-3Ydfhx/lib/python3.12/site-packages (from aiohttp<4.0.0,>=3.8.3->langchain_community) (1.11.1)\n",
      "Collecting marshmallow<4.0.0,>=3.18.0 (from dataclasses-json<0.7,>=0.5.7->langchain_community)\n",
      "  Downloading marshmallow-3.22.0-py3-none-any.whl.metadata (7.2 kB)\n",
      "Collecting typing-inspect<1,>=0.4.0 (from dataclasses-json<0.7,>=0.5.7->langchain_community)\n",
      "  Downloading typing_inspect-0.9.0-py3-none-any.whl.metadata (1.5 kB)\n",
      "Requirement already satisfied: langchain-text-splitters<0.4.0,>=0.3.0 in /Users/katerynakovalenko/.local/share/virtualenvs/ML_in_production-g-3Ydfhx/lib/python3.12/site-packages (from langchain<0.4.0,>=0.3.1->langchain_community) (0.3.0)\n",
      "Requirement already satisfied: pydantic<3.0.0,>=2.7.4 in /Users/katerynakovalenko/.local/share/virtualenvs/ML_in_production-g-3Ydfhx/lib/python3.12/site-packages (from langchain<0.4.0,>=0.3.1->langchain_community) (2.9.2)\n",
      "Requirement already satisfied: jsonpatch<2.0,>=1.33 in /Users/katerynakovalenko/.local/share/virtualenvs/ML_in_production-g-3Ydfhx/lib/python3.12/site-packages (from langchain-core<0.4.0,>=0.3.6->langchain_community) (1.33)\n",
      "Requirement already satisfied: packaging<25,>=23.2 in /Users/katerynakovalenko/.local/share/virtualenvs/ML_in_production-g-3Ydfhx/lib/python3.12/site-packages (from langchain-core<0.4.0,>=0.3.6->langchain_community) (24.1)\n",
      "Requirement already satisfied: typing-extensions>=4.7 in /Users/katerynakovalenko/.local/share/virtualenvs/ML_in_production-g-3Ydfhx/lib/python3.12/site-packages (from langchain-core<0.4.0,>=0.3.6->langchain_community) (4.12.2)\n",
      "Requirement already satisfied: httpx<1,>=0.23.0 in /Users/katerynakovalenko/.local/share/virtualenvs/ML_in_production-g-3Ydfhx/lib/python3.12/site-packages (from langsmith<0.2.0,>=0.1.125->langchain_community) (0.27.2)\n",
      "Requirement already satisfied: orjson<4.0.0,>=3.9.14 in /Users/katerynakovalenko/.local/share/virtualenvs/ML_in_production-g-3Ydfhx/lib/python3.12/site-packages (from langsmith<0.2.0,>=0.1.125->langchain_community) (3.10.7)\n",
      "Collecting python-dotenv>=0.21.0 (from pydantic-settings<3.0.0,>=2.4.0->langchain_community)\n",
      "  Downloading python_dotenv-1.0.1-py3-none-any.whl.metadata (23 kB)\n",
      "Requirement already satisfied: charset-normalizer<4,>=2 in /Users/katerynakovalenko/.local/share/virtualenvs/ML_in_production-g-3Ydfhx/lib/python3.12/site-packages (from requests<3,>=2->langchain_community) (3.3.2)\n",
      "Requirement already satisfied: idna<4,>=2.5 in /Users/katerynakovalenko/.local/share/virtualenvs/ML_in_production-g-3Ydfhx/lib/python3.12/site-packages (from requests<3,>=2->langchain_community) (3.10)\n",
      "Requirement already satisfied: urllib3<3,>=1.21.1 in /Users/katerynakovalenko/.local/share/virtualenvs/ML_in_production-g-3Ydfhx/lib/python3.12/site-packages (from requests<3,>=2->langchain_community) (2.2.3)\n",
      "Requirement already satisfied: certifi>=2017.4.17 in /Users/katerynakovalenko/.local/share/virtualenvs/ML_in_production-g-3Ydfhx/lib/python3.12/site-packages (from requests<3,>=2->langchain_community) (2024.8.30)\n",
      "Requirement already satisfied: anyio in /Users/katerynakovalenko/.local/share/virtualenvs/ML_in_production-g-3Ydfhx/lib/python3.12/site-packages (from httpx<1,>=0.23.0->langsmith<0.2.0,>=0.1.125->langchain_community) (4.6.0)\n",
      "Requirement already satisfied: httpcore==1.* in /Users/katerynakovalenko/.local/share/virtualenvs/ML_in_production-g-3Ydfhx/lib/python3.12/site-packages (from httpx<1,>=0.23.0->langsmith<0.2.0,>=0.1.125->langchain_community) (1.0.5)\n",
      "Requirement already satisfied: sniffio in /Users/katerynakovalenko/.local/share/virtualenvs/ML_in_production-g-3Ydfhx/lib/python3.12/site-packages (from httpx<1,>=0.23.0->langsmith<0.2.0,>=0.1.125->langchain_community) (1.3.1)\n",
      "Requirement already satisfied: h11<0.15,>=0.13 in /Users/katerynakovalenko/.local/share/virtualenvs/ML_in_production-g-3Ydfhx/lib/python3.12/site-packages (from httpcore==1.*->httpx<1,>=0.23.0->langsmith<0.2.0,>=0.1.125->langchain_community) (0.14.0)\n",
      "Requirement already satisfied: jsonpointer>=1.9 in /Users/katerynakovalenko/.local/share/virtualenvs/ML_in_production-g-3Ydfhx/lib/python3.12/site-packages (from jsonpatch<2.0,>=1.33->langchain-core<0.4.0,>=0.3.6->langchain_community) (3.0.0)\n",
      "Requirement already satisfied: annotated-types>=0.6.0 in /Users/katerynakovalenko/.local/share/virtualenvs/ML_in_production-g-3Ydfhx/lib/python3.12/site-packages (from pydantic<3.0.0,>=2.7.4->langchain<0.4.0,>=0.3.1->langchain_community) (0.7.0)\n",
      "Requirement already satisfied: pydantic-core==2.23.4 in /Users/katerynakovalenko/.local/share/virtualenvs/ML_in_production-g-3Ydfhx/lib/python3.12/site-packages (from pydantic<3.0.0,>=2.7.4->langchain<0.4.0,>=0.3.1->langchain_community) (2.23.4)\n",
      "Collecting mypy-extensions>=0.3.0 (from typing-inspect<1,>=0.4.0->dataclasses-json<0.7,>=0.5.7->langchain_community)\n",
      "  Using cached mypy_extensions-1.0.0-py3-none-any.whl.metadata (1.1 kB)\n",
      "Downloading langchain_community-0.3.1-py3-none-any.whl (2.4 MB)\n",
      "\u001b[2K   \u001b[38;2;114;156;31m━━━━━━━━━━━━━━━━━━━━━━━━━━━━━━━━━━━━━━━━\u001b[0m \u001b[32m2.4/2.4 MB\u001b[0m \u001b[31m6.3 MB/s\u001b[0m eta \u001b[36m0:00:00\u001b[0m[31m6.1 MB/s\u001b[0m eta \u001b[36m0:00:01\u001b[0m\n",
      "\u001b[?25hDownloading dataclasses_json-0.6.7-py3-none-any.whl (28 kB)\n",
      "Downloading pydantic_settings-2.5.2-py3-none-any.whl (26 kB)\n",
      "Downloading marshmallow-3.22.0-py3-none-any.whl (49 kB)\n",
      "Downloading python_dotenv-1.0.1-py3-none-any.whl (19 kB)\n",
      "Downloading typing_inspect-0.9.0-py3-none-any.whl (8.8 kB)\n",
      "Using cached mypy_extensions-1.0.0-py3-none-any.whl (4.7 kB)\n",
      "Installing collected packages: python-dotenv, mypy-extensions, marshmallow, typing-inspect, pydantic-settings, dataclasses-json, langchain_community\n",
      "Successfully installed dataclasses-json-0.6.7 langchain_community-0.3.1 marshmallow-3.22.0 mypy-extensions-1.0.0 pydantic-settings-2.5.2 python-dotenv-1.0.1 typing-inspect-0.9.0\n",
      "Note: you may need to restart the kernel to use updated packages.\n"
     ]
    }
   ],
   "source": [
    "pip install langchain_community"
   ]
  },
  {
   "cell_type": "code",
   "execution_count": 12,
   "id": "9f4a866c-37de-4d98-bf33-043de23a30a4",
   "metadata": {},
   "outputs": [],
   "source": [
    "from langchain_core.tools import tool\n",
    "from langchain_community.tools import DuckDuckGoSearchRun"
   ]
  },
  {
   "cell_type": "code",
   "execution_count": 13,
   "id": "98f9eab6-1567-4855-b9da-c5ab8eed9213",
   "metadata": {},
   "outputs": [],
   "source": [
    "@tool(\"tool_browser\")\n",
    "def tool_browser(q: str) -> str:\n",
    "    \"\"\"Search on DuckDuckGo browser by passing the input `q`\"\"\"\n",
    "    return DuckDuckGoSearchRun().run(q)"
   ]
  },
  {
   "cell_type": "code",
   "execution_count": 14,
   "id": "e71db3c0-f667-47e8-bf7b-956f4baf880d",
   "metadata": {},
   "outputs": [
    {
     "name": "stderr",
     "output_type": "stream",
     "text": [
      "/var/folders/88/fl255cl9063bvf04yyfswsj00000gn/T/ipykernel_78626/1111570667.py:1: LangChainDeprecationWarning: The method `BaseTool.__call__` was deprecated in langchain-core 0.1.47 and will be removed in 1.0. Use :meth:`~invoke` instead.\n",
      "  print( tool_browser(q) )\n"
     ]
    },
    {
     "name": "stdout",
     "output_type": "stream",
     "text": [
      "Alberto Fujimori (1938-2024) Sep 11 President of Peru (1990-2000), dies of cancer at 86 [1] Sep 11 Chad McQueen, American actor (Nightforce; The Karate Kid), dies at 63. Sep 11 Joe Schmidt, College-Pro Football HOF linebacker (10 x Pro Bowl; 8 x First-team All-Pro; NFL C'ship 1953, 57; Detroit Lions) and coach (Detroit Lions 1967-72), dies at 92. September 9, 2024 (81 years old) Elisabeth Ulla-Marta Aulen Holm. Middlebury, Vermont. September 9, 2024 (83 years old) Barry Keith Beegle. Bedford, Pennsylvania. September 9, 2024 (62 years old) Patricia A. McKeon. Williston Park, New York. Actor James Earl Jones, known for his booming voice and many memorable performances, died Monday morning, according to his agent Barry McPherson. ... Mon September 9, 2024 Link Copied! James Earl Jones, legendary actor who was the voice of Darth Vader and Mufasa, died September 9, 2024 at his home in Dutchess County, New York at the age of 93. NEW Write an Obituary. September 9, 2024 1:33pm. James Earl Jones in 2015 WireImage. James Earl Jones, the revered actor who voiced Star Wars villain Darth Vader, starred in Field of Dreams and many other films and ...\n"
     ]
    }
   ],
   "source": [
    "print( tool_browser(q) )"
   ]
  },
  {
   "cell_type": "code",
   "execution_count": 15,
   "id": "5fb4335b-967a-4aa0-ac3e-01352d5df644",
   "metadata": {},
   "outputs": [
    {
     "data": {
      "text/plain": [
       "'Thus, Vox Valor Capital has an ROCE of 0.5%. In absolute terms, that\\'s a low return and it also under-performs the Media industry average of 11%. See our latest analysis for Vox Valor Capital Dan Schulman, who stepped down last fall as PayPal\\'s CEO after a nine-year run, has joined venture firm Valor Capital Group as a managing partner, he tells Axios exclusively. Why it matters: Schulman has been one of Silicon Valley\\'s most sought-after free agents, for both CEO and investor roles. Since retiring from PayPal, he\\'s taken board seats with Cisco and Lazard, plus maintained his board ... Valor Capital Group General Information Company Description. Founded in 2011, Valor Capital Group is a venture capital firm based in New York, New York. The firm prefers to invest in seed-stage, early-stage, later-stage, and growth-stage companies operating in B2B, commercial services, B2C, consumer non-durables, e-commerce, fintech, TMT, and technology sectors based in the United States and ... Valor Equity Partners (together with its affiliates, \"Valor\"), an operational growth-focused private equity investment firm with $17.5 billion in assets under management, announced today the final ... Venture capital investor Valor Capital Group has hired former Brazilian central bank official Bruno Batavia as its new director of emerging tech, the company said on Thursday. Batavia served in ...'"
      ]
     },
     "execution_count": 15,
     "metadata": {},
     "output_type": "execute_result"
    }
   ],
   "source": [
    "tool_browser(\"Valor Capital\")"
   ]
  },
  {
   "cell_type": "code",
   "execution_count": 16,
   "id": "38ba8ee1-902f-4715-85ed-b0b22a1ce1a4",
   "metadata": {},
   "outputs": [
    {
     "name": "stdout",
     "output_type": "stream",
     "text": [
      "[{'title': \"Fonds d'investissement - Levée de fonds - Odyssée Venture\", 'href': 'https://odysseeventure.com/', 'body': 'ODYSSEE Venture est un acteur historique du capital investissement et le spécialiste français des entreprises de croissance. Nous avons financé près de 200 PME françaises de croissance sur les 20 dernières années, au travers de FCPI, FIP et FCPR. De la start-up à la pré-IPO, nous accompagnons tous ceux qui cherchent un associé ...'}, {'title': 'ODYSSEE Venture - LinkedIn', 'href': 'https://www.linkedin.com/company/odyssee-venture', 'body': 'ODYSSEE Venture, a French Venture Capital and Private Equity player established in 1999, is one of the first independent private equity asset management companies accredited by AMF. We specialized ...'}, {'title': 'Odyssee Venture Investor Profile: Portfolio & Exits - PitchBook', 'href': 'https://pitchbook.com/profiles/investor/11261-17', 'body': 'Company Description. Founded in 1999, Odyssee Venture is a private equity investment firm based in Paris, France. The firm prefers to invest in growth-stage companies through buyouts. The firm also prefers to invest in seed-stage, early-stage, and later-stage companies through venture capital investments. The firm seeks to invest in business ...'}, {'title': 'ODYSSEE VENTURE - Crunchbase Investor Profile & Investments', 'href': 'https://www.crunchbase.com/organization/odyssee-venture', 'body': 'Number of Exits. 34. Contact Email entrepreneurs@odysseeventure.com. Phone Number +33171181150. ODYSSEE VENTURE is a French Venture Capital and Private Equity firm. It was founded by Mathieu Boillet and Sébastien Sassolas in 1999 and is based in Paris, France. The company has raised over 600M€.'}, {'title': 'Sidetrade : Odyssée Venture acquires in excess of 5% of Sidetrade share ...', 'href': 'https://www.marketscreener.com/quote/stock/SIDETRADE-S-A-3033378/news/Sidetrade-Odyssee-Venture-acquires-in-excess-of-5-of-Sidetrade-share-capital-strengthening-its-s-23464607/', 'body': \"Sidetrade (Euronext: ALBFR.PA), the leading global provider of Predictive Sales-to-Cash solutions, announces the acquisition of a 5% threshold investment by Odyssée Venture. Odyssée Venture now holds 84,444 shares in Sidetrade, representing 6.1% of the company's capital. Mathieu Boillet, CEO of Odyssée Venture, says:\"}]\n"
     ]
    }
   ],
   "source": [
    "from duckduckgo_search import DDGS\n",
    "results = DDGS().text(\"Odyssée Venture\", max_results=5)\n",
    "print(results)"
   ]
  },
  {
   "cell_type": "code",
   "execution_count": 17,
   "id": "9911c510-7553-464d-a2bb-29de8dc82150",
   "metadata": {},
   "outputs": [
    {
     "name": "stdout",
     "output_type": "stream",
     "text": [
      "[{'title': 'ODYSSEE VENTURE - Crunchbase Investor Profile & Investments', 'href': 'https://www.crunchbase.com/organization/odyssee-venture', 'body': 'Number of Exits. 34. Contact Email entrepreneurs@odysseeventure.com. Phone Number +33171181150. ODYSSEE VENTURE is a French Venture Capital and Private Equity firm. It was founded by Mathieu Boillet and Sébastien Sassolas in 1999 and is based in Paris, France. The company has raised over 600M€.'}, {'title': 'Nous contacter - Odyssee Venture', 'href': 'https://odysseeventure.com/nous-contacter', 'body': \"Vous êtes partenaire distributeur des fonds Odyssée ou vous ... rejoindre l'équipe d'Odyssée. recrutement@odysseeventure.com. Vous pouvez aussi nous joindre sur le mail général : contact@odysseeventure.com. ... NOUS CONTACTER. DÉCOUVRIR NOS FONDS. Ambitions partagées, réussites collectives. Odyssée Venture 26, rue de Berri 75008 PARIS\"}, {'title': 'ODYSSEE Venture - LinkedIn', 'href': 'https://www.linkedin.com/company/odyssee-venture', 'body': 'ODYSSEE Venture, a French Venture Capital and Private Equity player established in 1999, is one of the first independent private equity asset management companies accredited by AMF. We specialized ...'}, {'title': \"Fonds d'investissement - Levée de fonds - Odyssée Venture\", 'href': 'https://odysseeventure.com/', 'body': 'ODYSSEE Venture est un acteur historique du capital investissement et le spécialiste français des entreprises de croissance. Nous avons financé près de 200 PME françaises de croissance sur les 20 dernières années, au travers de FCPI, FIP et FCPR. De la start-up à la pré-IPO, nous accompagnons tous ceux qui cherchent un associé ...'}, {'title': 'ODYSSEE VENTURE: Contact Details and Business Profile - RocketReach', 'href': 'https://rocketreach.co/odyssee-venture-profile_b447fc0dfabd3d24', 'body': 'ODYSSEE VENTURE is a Venture Capital and Private Equity Principals, Venture Capital & Private Equity, and Financial Services company located in Paris, Île-de-France with $645000 in revenue and 12 employees. Find top employees, contact details and business statistics at RocketReach.'}]\n"
     ]
    }
   ],
   "source": [
    "results = DDGS().text(\"Odyssée Venture contact details\", max_results=5)\n",
    "print(results)"
   ]
  },
  {
   "cell_type": "code",
   "execution_count": 18,
   "id": "5a57c9d1-94cc-4e76-a7d2-460259fbd392",
   "metadata": {},
   "outputs": [
    {
     "name": "stdout",
     "output_type": "stream",
     "text": [
      "Collecting semantic-router\n",
      "  Downloading semantic_router-0.0.68-py3-none-any.whl.metadata (10 kB)\n",
      "Requirement already satisfied: aiohttp<4.0.0,>=3.9.5 in /Users/katerynakovalenko/.local/share/virtualenvs/ML_in_production-g-3Ydfhx/lib/python3.12/site-packages (from semantic-router) (3.10.5)\n",
      "Collecting cohere<6.00,>=5.9.4 (from semantic-router)\n",
      "  Downloading cohere-5.11.0-py3-none-any.whl.metadata (3.4 kB)\n",
      "Requirement already satisfied: colorama<0.5.0,>=0.4.6 in /Users/katerynakovalenko/.local/share/virtualenvs/ML_in_production-g-3Ydfhx/lib/python3.12/site-packages (from semantic-router) (0.4.6)\n",
      "Requirement already satisfied: colorlog<7.0.0,>=6.8.0 in /Users/katerynakovalenko/.local/share/virtualenvs/ML_in_production-g-3Ydfhx/lib/python3.12/site-packages (from semantic-router) (6.8.2)\n",
      "Requirement already satisfied: numpy<2.0.0,>=1.25.2 in /Users/katerynakovalenko/.local/share/virtualenvs/ML_in_production-g-3Ydfhx/lib/python3.12/site-packages (from semantic-router) (1.26.4)\n",
      "Requirement already satisfied: openai<2.0.0,>=1.10.0 in /Users/katerynakovalenko/.local/share/virtualenvs/ML_in_production-g-3Ydfhx/lib/python3.12/site-packages (from semantic-router) (1.47.0)\n",
      "Requirement already satisfied: pydantic<3.0.0,>=2.5.3 in /Users/katerynakovalenko/.local/share/virtualenvs/ML_in_production-g-3Ydfhx/lib/python3.12/site-packages (from semantic-router) (2.9.2)\n",
      "Requirement already satisfied: pyyaml<7.0.0,>=6.0.1 in /Users/katerynakovalenko/.local/share/virtualenvs/ML_in_production-g-3Ydfhx/lib/python3.12/site-packages (from semantic-router) (6.0.2)\n",
      "Requirement already satisfied: regex>=2023.12.25 in /Users/katerynakovalenko/.local/share/virtualenvs/ML_in_production-g-3Ydfhx/lib/python3.12/site-packages (from semantic-router) (2024.9.11)\n",
      "Collecting requests-mock<2.0.0,>=1.12.1 (from semantic-router)\n",
      "  Downloading requests_mock-1.12.1-py2.py3-none-any.whl.metadata (4.1 kB)\n",
      "Collecting tiktoken<1.0.0,>=0.6.0 (from semantic-router)\n",
      "  Downloading tiktoken-0.7.0-cp312-cp312-macosx_11_0_arm64.whl.metadata (6.6 kB)\n",
      "Requirement already satisfied: aiohappyeyeballs>=2.3.0 in /Users/katerynakovalenko/.local/share/virtualenvs/ML_in_production-g-3Ydfhx/lib/python3.12/site-packages (from aiohttp<4.0.0,>=3.9.5->semantic-router) (2.4.0)\n",
      "Requirement already satisfied: aiosignal>=1.1.2 in /Users/katerynakovalenko/.local/share/virtualenvs/ML_in_production-g-3Ydfhx/lib/python3.12/site-packages (from aiohttp<4.0.0,>=3.9.5->semantic-router) (1.3.1)\n",
      "Requirement already satisfied: attrs>=17.3.0 in /Users/katerynakovalenko/.local/share/virtualenvs/ML_in_production-g-3Ydfhx/lib/python3.12/site-packages (from aiohttp<4.0.0,>=3.9.5->semantic-router) (24.2.0)\n",
      "Requirement already satisfied: frozenlist>=1.1.1 in /Users/katerynakovalenko/.local/share/virtualenvs/ML_in_production-g-3Ydfhx/lib/python3.12/site-packages (from aiohttp<4.0.0,>=3.9.5->semantic-router) (1.4.1)\n",
      "Requirement already satisfied: multidict<7.0,>=4.5 in /Users/katerynakovalenko/.local/share/virtualenvs/ML_in_production-g-3Ydfhx/lib/python3.12/site-packages (from aiohttp<4.0.0,>=3.9.5->semantic-router) (6.1.0)\n",
      "Requirement already satisfied: yarl<2.0,>=1.0 in /Users/katerynakovalenko/.local/share/virtualenvs/ML_in_production-g-3Ydfhx/lib/python3.12/site-packages (from aiohttp<4.0.0,>=3.9.5->semantic-router) (1.11.1)\n",
      "Requirement already satisfied: boto3<2.0.0,>=1.34.0 in /Users/katerynakovalenko/.local/share/virtualenvs/ML_in_production-g-3Ydfhx/lib/python3.12/site-packages (from cohere<6.00,>=5.9.4->semantic-router) (1.35.18)\n",
      "Collecting fastavro<2.0.0,>=1.9.4 (from cohere<6.00,>=5.9.4->semantic-router)\n",
      "  Downloading fastavro-1.9.7-cp312-cp312-macosx_10_9_universal2.whl.metadata (5.5 kB)\n",
      "Requirement already satisfied: httpx>=0.21.2 in /Users/katerynakovalenko/.local/share/virtualenvs/ML_in_production-g-3Ydfhx/lib/python3.12/site-packages (from cohere<6.00,>=5.9.4->semantic-router) (0.27.2)\n",
      "Collecting httpx-sse==0.4.0 (from cohere<6.00,>=5.9.4->semantic-router)\n",
      "  Downloading httpx_sse-0.4.0-py3-none-any.whl.metadata (9.0 kB)\n",
      "Collecting parameterized<0.10.0,>=0.9.0 (from cohere<6.00,>=5.9.4->semantic-router)\n",
      "  Downloading parameterized-0.9.0-py2.py3-none-any.whl.metadata (18 kB)\n",
      "Requirement already satisfied: pydantic-core<3.0.0,>=2.18.2 in /Users/katerynakovalenko/.local/share/virtualenvs/ML_in_production-g-3Ydfhx/lib/python3.12/site-packages (from cohere<6.00,>=5.9.4->semantic-router) (2.23.4)\n",
      "Requirement already satisfied: requests<3.0.0,>=2.0.0 in /Users/katerynakovalenko/.local/share/virtualenvs/ML_in_production-g-3Ydfhx/lib/python3.12/site-packages (from cohere<6.00,>=5.9.4->semantic-router) (2.32.3)\n",
      "Collecting sagemaker<3.0.0,>=2.232.1 (from cohere<6.00,>=5.9.4->semantic-router)\n",
      "  Downloading sagemaker-2.232.1-py3-none-any.whl.metadata (16 kB)\n",
      "Requirement already satisfied: tokenizers<1,>=0.15 in /Users/katerynakovalenko/.local/share/virtualenvs/ML_in_production-g-3Ydfhx/lib/python3.12/site-packages (from cohere<6.00,>=5.9.4->semantic-router) (0.19.1)\n",
      "Collecting types-requests<3.0.0,>=2.0.0 (from cohere<6.00,>=5.9.4->semantic-router)\n",
      "  Downloading types_requests-2.32.0.20240914-py3-none-any.whl.metadata (1.9 kB)\n",
      "Requirement already satisfied: typing_extensions>=4.0.0 in /Users/katerynakovalenko/.local/share/virtualenvs/ML_in_production-g-3Ydfhx/lib/python3.12/site-packages (from cohere<6.00,>=5.9.4->semantic-router) (4.12.2)\n",
      "Requirement already satisfied: anyio<5,>=3.5.0 in /Users/katerynakovalenko/.local/share/virtualenvs/ML_in_production-g-3Ydfhx/lib/python3.12/site-packages (from openai<2.0.0,>=1.10.0->semantic-router) (4.6.0)\n",
      "Requirement already satisfied: distro<2,>=1.7.0 in /Users/katerynakovalenko/.local/share/virtualenvs/ML_in_production-g-3Ydfhx/lib/python3.12/site-packages (from openai<2.0.0,>=1.10.0->semantic-router) (1.9.0)\n",
      "Requirement already satisfied: jiter<1,>=0.4.0 in /Users/katerynakovalenko/.local/share/virtualenvs/ML_in_production-g-3Ydfhx/lib/python3.12/site-packages (from openai<2.0.0,>=1.10.0->semantic-router) (0.5.0)\n",
      "Requirement already satisfied: sniffio in /Users/katerynakovalenko/.local/share/virtualenvs/ML_in_production-g-3Ydfhx/lib/python3.12/site-packages (from openai<2.0.0,>=1.10.0->semantic-router) (1.3.1)\n",
      "Requirement already satisfied: tqdm>4 in /Users/katerynakovalenko/.local/share/virtualenvs/ML_in_production-g-3Ydfhx/lib/python3.12/site-packages (from openai<2.0.0,>=1.10.0->semantic-router) (4.66.5)\n",
      "Requirement already satisfied: annotated-types>=0.6.0 in /Users/katerynakovalenko/.local/share/virtualenvs/ML_in_production-g-3Ydfhx/lib/python3.12/site-packages (from pydantic<3.0.0,>=2.5.3->semantic-router) (0.7.0)\n",
      "Requirement already satisfied: idna>=2.8 in /Users/katerynakovalenko/.local/share/virtualenvs/ML_in_production-g-3Ydfhx/lib/python3.12/site-packages (from anyio<5,>=3.5.0->openai<2.0.0,>=1.10.0->semantic-router) (3.10)\n",
      "Requirement already satisfied: botocore<1.36.0,>=1.35.18 in /Users/katerynakovalenko/.local/share/virtualenvs/ML_in_production-g-3Ydfhx/lib/python3.12/site-packages (from boto3<2.0.0,>=1.34.0->cohere<6.00,>=5.9.4->semantic-router) (1.35.18)\n",
      "Requirement already satisfied: jmespath<2.0.0,>=0.7.1 in /Users/katerynakovalenko/.local/share/virtualenvs/ML_in_production-g-3Ydfhx/lib/python3.12/site-packages (from boto3<2.0.0,>=1.34.0->cohere<6.00,>=5.9.4->semantic-router) (1.0.1)\n",
      "Requirement already satisfied: s3transfer<0.11.0,>=0.10.0 in /Users/katerynakovalenko/.local/share/virtualenvs/ML_in_production-g-3Ydfhx/lib/python3.12/site-packages (from boto3<2.0.0,>=1.34.0->cohere<6.00,>=5.9.4->semantic-router) (0.10.2)\n",
      "Requirement already satisfied: certifi in /Users/katerynakovalenko/.local/share/virtualenvs/ML_in_production-g-3Ydfhx/lib/python3.12/site-packages (from httpx>=0.21.2->cohere<6.00,>=5.9.4->semantic-router) (2024.8.30)\n",
      "Requirement already satisfied: httpcore==1.* in /Users/katerynakovalenko/.local/share/virtualenvs/ML_in_production-g-3Ydfhx/lib/python3.12/site-packages (from httpx>=0.21.2->cohere<6.00,>=5.9.4->semantic-router) (1.0.5)\n",
      "Requirement already satisfied: h11<0.15,>=0.13 in /Users/katerynakovalenko/.local/share/virtualenvs/ML_in_production-g-3Ydfhx/lib/python3.12/site-packages (from httpcore==1.*->httpx>=0.21.2->cohere<6.00,>=5.9.4->semantic-router) (0.14.0)\n",
      "Requirement already satisfied: charset-normalizer<4,>=2 in /Users/katerynakovalenko/.local/share/virtualenvs/ML_in_production-g-3Ydfhx/lib/python3.12/site-packages (from requests<3.0.0,>=2.0.0->cohere<6.00,>=5.9.4->semantic-router) (3.3.2)\n",
      "Requirement already satisfied: urllib3<3,>=1.21.1 in /Users/katerynakovalenko/.local/share/virtualenvs/ML_in_production-g-3Ydfhx/lib/python3.12/site-packages (from requests<3.0.0,>=2.0.0->cohere<6.00,>=5.9.4->semantic-router) (2.2.3)\n",
      "Collecting attrs>=17.3.0 (from aiohttp<4.0.0,>=3.9.5->semantic-router)\n",
      "  Using cached attrs-23.2.0-py3-none-any.whl.metadata (9.5 kB)\n",
      "Collecting cloudpickle==2.2.1 (from sagemaker<3.0.0,>=2.232.1->cohere<6.00,>=5.9.4->semantic-router)\n",
      "  Downloading cloudpickle-2.2.1-py3-none-any.whl.metadata (6.9 kB)\n",
      "Collecting docker (from sagemaker<3.0.0,>=2.232.1->cohere<6.00,>=5.9.4->semantic-router)\n",
      "  Downloading docker-7.1.0-py3-none-any.whl.metadata (3.8 kB)\n",
      "Collecting google-pasta (from sagemaker<3.0.0,>=2.232.1->cohere<6.00,>=5.9.4->semantic-router)\n",
      "  Downloading google_pasta-0.2.0-py3-none-any.whl.metadata (814 bytes)\n",
      "Collecting importlib-metadata<7.0,>=1.4.0 (from sagemaker<3.0.0,>=2.232.1->cohere<6.00,>=5.9.4->semantic-router)\n",
      "  Downloading importlib_metadata-6.11.0-py3-none-any.whl.metadata (4.9 kB)\n",
      "Requirement already satisfied: jsonschema in /Users/katerynakovalenko/.local/share/virtualenvs/ML_in_production-g-3Ydfhx/lib/python3.12/site-packages (from sagemaker<3.0.0,>=2.232.1->cohere<6.00,>=5.9.4->semantic-router) (4.23.0)\n",
      "Requirement already satisfied: packaging>=20.0 in /Users/katerynakovalenko/.local/share/virtualenvs/ML_in_production-g-3Ydfhx/lib/python3.12/site-packages (from sagemaker<3.0.0,>=2.232.1->cohere<6.00,>=5.9.4->semantic-router) (24.1)\n",
      "Requirement already satisfied: pandas in /Users/katerynakovalenko/.local/share/virtualenvs/ML_in_production-g-3Ydfhx/lib/python3.12/site-packages (from sagemaker<3.0.0,>=2.232.1->cohere<6.00,>=5.9.4->semantic-router) (2.2.3)\n",
      "Collecting pathos (from sagemaker<3.0.0,>=2.232.1->cohere<6.00,>=5.9.4->semantic-router)\n",
      "  Downloading pathos-0.3.3-py3-none-any.whl.metadata (11 kB)\n",
      "Requirement already satisfied: platformdirs in /Users/katerynakovalenko/.local/share/virtualenvs/ML_in_production-g-3Ydfhx/lib/python3.12/site-packages (from sagemaker<3.0.0,>=2.232.1->cohere<6.00,>=5.9.4->semantic-router) (3.11.0)\n",
      "Collecting protobuf<5.0,>=3.12 (from sagemaker<3.0.0,>=2.232.1->cohere<6.00,>=5.9.4->semantic-router)\n",
      "  Downloading protobuf-4.25.5-cp37-abi3-macosx_10_9_universal2.whl.metadata (541 bytes)\n",
      "Requirement already satisfied: psutil in /Users/katerynakovalenko/.local/share/virtualenvs/ML_in_production-g-3Ydfhx/lib/python3.12/site-packages (from sagemaker<3.0.0,>=2.232.1->cohere<6.00,>=5.9.4->semantic-router) (6.0.0)\n",
      "Collecting sagemaker-core<2.0.0,>=1.0.0 (from sagemaker<3.0.0,>=2.232.1->cohere<6.00,>=5.9.4->semantic-router)\n",
      "  Downloading sagemaker_core-1.0.9-py3-none-any.whl.metadata (4.9 kB)\n",
      "Collecting schema (from sagemaker<3.0.0,>=2.232.1->cohere<6.00,>=5.9.4->semantic-router)\n",
      "  Downloading schema-0.7.7-py2.py3-none-any.whl.metadata (34 kB)\n",
      "Collecting smdebug-rulesconfig==1.0.1 (from sagemaker<3.0.0,>=2.232.1->cohere<6.00,>=5.9.4->semantic-router)\n",
      "  Downloading smdebug_rulesconfig-1.0.1-py2.py3-none-any.whl.metadata (943 bytes)\n",
      "Collecting tblib<4,>=1.7.0 (from sagemaker<3.0.0,>=2.232.1->cohere<6.00,>=5.9.4->semantic-router)\n",
      "  Downloading tblib-3.0.0-py3-none-any.whl.metadata (25 kB)\n",
      "Requirement already satisfied: huggingface-hub<1.0,>=0.16.4 in /Users/katerynakovalenko/.local/share/virtualenvs/ML_in_production-g-3Ydfhx/lib/python3.12/site-packages (from tokenizers<1,>=0.15->cohere<6.00,>=5.9.4->semantic-router) (0.25.0)\n",
      "Requirement already satisfied: python-dateutil<3.0.0,>=2.1 in /Users/katerynakovalenko/.local/share/virtualenvs/ML_in_production-g-3Ydfhx/lib/python3.12/site-packages (from botocore<1.36.0,>=1.35.18->boto3<2.0.0,>=1.34.0->cohere<6.00,>=5.9.4->semantic-router) (2.9.0.post0)\n",
      "Requirement already satisfied: filelock in /Users/katerynakovalenko/.local/share/virtualenvs/ML_in_production-g-3Ydfhx/lib/python3.12/site-packages (from huggingface-hub<1.0,>=0.16.4->tokenizers<1,>=0.15->cohere<6.00,>=5.9.4->semantic-router) (3.16.1)\n",
      "Requirement already satisfied: fsspec>=2023.5.0 in /Users/katerynakovalenko/.local/share/virtualenvs/ML_in_production-g-3Ydfhx/lib/python3.12/site-packages (from huggingface-hub<1.0,>=0.16.4->tokenizers<1,>=0.15->cohere<6.00,>=5.9.4->semantic-router) (2024.6.1)\n",
      "Collecting zipp>=0.5 (from importlib-metadata<7.0,>=1.4.0->sagemaker<3.0.0,>=2.232.1->cohere<6.00,>=5.9.4->semantic-router)\n",
      "  Downloading zipp-3.20.2-py3-none-any.whl.metadata (3.7 kB)\n",
      "Collecting platformdirs (from sagemaker<3.0.0,>=2.232.1->cohere<6.00,>=5.9.4->semantic-router)\n",
      "  Using cached platformdirs-4.3.6-py3-none-any.whl.metadata (11 kB)\n",
      "Requirement already satisfied: rich<14.0.0,>=13.0.0 in /Users/katerynakovalenko/.local/share/virtualenvs/ML_in_production-g-3Ydfhx/lib/python3.12/site-packages (from sagemaker-core<2.0.0,>=1.0.0->sagemaker<3.0.0,>=2.232.1->cohere<6.00,>=5.9.4->semantic-router) (13.8.1)\n",
      "Collecting mock<5.0,>4.0 (from sagemaker-core<2.0.0,>=1.0.0->sagemaker<3.0.0,>=2.232.1->cohere<6.00,>=5.9.4->semantic-router)\n",
      "  Downloading mock-4.0.3-py3-none-any.whl.metadata (2.8 kB)\n",
      "Requirement already satisfied: jsonschema-specifications>=2023.03.6 in /Users/katerynakovalenko/.local/share/virtualenvs/ML_in_production-g-3Ydfhx/lib/python3.12/site-packages (from jsonschema->sagemaker<3.0.0,>=2.232.1->cohere<6.00,>=5.9.4->semantic-router) (2023.12.1)\n",
      "Requirement already satisfied: referencing>=0.28.4 in /Users/katerynakovalenko/.local/share/virtualenvs/ML_in_production-g-3Ydfhx/lib/python3.12/site-packages (from jsonschema->sagemaker<3.0.0,>=2.232.1->cohere<6.00,>=5.9.4->semantic-router) (0.35.1)\n",
      "Requirement already satisfied: rpds-py>=0.7.1 in /Users/katerynakovalenko/.local/share/virtualenvs/ML_in_production-g-3Ydfhx/lib/python3.12/site-packages (from jsonschema->sagemaker<3.0.0,>=2.232.1->cohere<6.00,>=5.9.4->semantic-router) (0.20.0)\n",
      "Requirement already satisfied: six in /Users/katerynakovalenko/.local/share/virtualenvs/ML_in_production-g-3Ydfhx/lib/python3.12/site-packages (from google-pasta->sagemaker<3.0.0,>=2.232.1->cohere<6.00,>=5.9.4->semantic-router) (1.16.0)\n",
      "Requirement already satisfied: pytz>=2020.1 in /Users/katerynakovalenko/.local/share/virtualenvs/ML_in_production-g-3Ydfhx/lib/python3.12/site-packages (from pandas->sagemaker<3.0.0,>=2.232.1->cohere<6.00,>=5.9.4->semantic-router) (2024.2)\n",
      "Requirement already satisfied: tzdata>=2022.7 in /Users/katerynakovalenko/.local/share/virtualenvs/ML_in_production-g-3Ydfhx/lib/python3.12/site-packages (from pandas->sagemaker<3.0.0,>=2.232.1->cohere<6.00,>=5.9.4->semantic-router) (2024.1)\n",
      "Collecting ppft>=1.7.6.9 (from pathos->sagemaker<3.0.0,>=2.232.1->cohere<6.00,>=5.9.4->semantic-router)\n",
      "  Downloading ppft-1.7.6.9-py3-none-any.whl.metadata (12 kB)\n",
      "Collecting dill>=0.3.9 (from pathos->sagemaker<3.0.0,>=2.232.1->cohere<6.00,>=5.9.4->semantic-router)\n",
      "  Downloading dill-0.3.9-py3-none-any.whl.metadata (10 kB)\n",
      "Collecting pox>=0.3.5 (from pathos->sagemaker<3.0.0,>=2.232.1->cohere<6.00,>=5.9.4->semantic-router)\n",
      "  Downloading pox-0.3.5-py3-none-any.whl.metadata (8.0 kB)\n",
      "Collecting multiprocess>=0.70.17 (from pathos->sagemaker<3.0.0,>=2.232.1->cohere<6.00,>=5.9.4->semantic-router)\n",
      "  Downloading multiprocess-0.70.17-py312-none-any.whl.metadata (7.2 kB)\n",
      "Requirement already satisfied: markdown-it-py>=2.2.0 in /Users/katerynakovalenko/.local/share/virtualenvs/ML_in_production-g-3Ydfhx/lib/python3.12/site-packages (from rich<14.0.0,>=13.0.0->sagemaker-core<2.0.0,>=1.0.0->sagemaker<3.0.0,>=2.232.1->cohere<6.00,>=5.9.4->semantic-router) (3.0.0)\n",
      "Requirement already satisfied: pygments<3.0.0,>=2.13.0 in /Users/katerynakovalenko/.local/share/virtualenvs/ML_in_production-g-3Ydfhx/lib/python3.12/site-packages (from rich<14.0.0,>=13.0.0->sagemaker-core<2.0.0,>=1.0.0->sagemaker<3.0.0,>=2.232.1->cohere<6.00,>=5.9.4->semantic-router) (2.18.0)\n",
      "Requirement already satisfied: mdurl~=0.1 in /Users/katerynakovalenko/.local/share/virtualenvs/ML_in_production-g-3Ydfhx/lib/python3.12/site-packages (from markdown-it-py>=2.2.0->rich<14.0.0,>=13.0.0->sagemaker-core<2.0.0,>=1.0.0->sagemaker<3.0.0,>=2.232.1->cohere<6.00,>=5.9.4->semantic-router) (0.1.2)\n",
      "Downloading semantic_router-0.0.68-py3-none-any.whl (84 kB)\n",
      "Downloading cohere-5.11.0-py3-none-any.whl (249 kB)\n",
      "Downloading httpx_sse-0.4.0-py3-none-any.whl (7.8 kB)\n",
      "Downloading requests_mock-1.12.1-py2.py3-none-any.whl (27 kB)\n",
      "Downloading tiktoken-0.7.0-cp312-cp312-macosx_11_0_arm64.whl (906 kB)\n",
      "\u001b[2K   \u001b[38;2;114;156;31m━━━━━━━━━━━━━━━━━━━━━━━━━━━━━━━━━━━━━━━\u001b[0m \u001b[32m906.7/906.7 kB\u001b[0m \u001b[31m554.5 kB/s\u001b[0m eta \u001b[36m0:00:00\u001b[0m1m374.4 kB/s\u001b[0m eta \u001b[36m0:00:02\u001b[0m\n",
      "\u001b[?25hDownloading fastavro-1.9.7-cp312-cp312-macosx_10_9_universal2.whl (1.0 MB)\n",
      "\u001b[2K   \u001b[38;2;114;156;31m━━━━━━━━━━━━━━━━━━━━━━━━━━━━━━━━━━━━━━━━\u001b[0m \u001b[32m1.0/1.0 MB\u001b[0m \u001b[31m639.4 kB/s\u001b[0m eta \u001b[36m0:00:00\u001b[0m kB/s\u001b[0m eta \u001b[36m0:00:01\u001b[0m\n",
      "\u001b[?25hDownloading parameterized-0.9.0-py2.py3-none-any.whl (20 kB)\n",
      "Downloading sagemaker-2.232.1-py3-none-any.whl (1.6 MB)\n",
      "\u001b[2K   \u001b[38;2;114;156;31m━━━━━━━━━━━━━━━━━━━━━━━━━━━━━━━━━━━━━━━━\u001b[0m \u001b[32m1.6/1.6 MB\u001b[0m \u001b[31m913.0 kB/s\u001b[0m eta \u001b[36m0:00:00\u001b[0m1m892.0 kB/s\u001b[0m eta \u001b[36m0:00:01\u001b[0m\n",
      "\u001b[?25hDownloading cloudpickle-2.2.1-py3-none-any.whl (25 kB)\n",
      "Downloading smdebug_rulesconfig-1.0.1-py2.py3-none-any.whl (20 kB)\n",
      "Using cached attrs-23.2.0-py3-none-any.whl (60 kB)\n",
      "Downloading types_requests-2.32.0.20240914-py3-none-any.whl (15 kB)\n",
      "Downloading importlib_metadata-6.11.0-py3-none-any.whl (23 kB)\n",
      "Downloading protobuf-4.25.5-cp37-abi3-macosx_10_9_universal2.whl (394 kB)\n",
      "Downloading sagemaker_core-1.0.9-py3-none-any.whl (384 kB)\n",
      "Using cached platformdirs-4.3.6-py3-none-any.whl (18 kB)\n",
      "Downloading tblib-3.0.0-py3-none-any.whl (12 kB)\n",
      "Downloading docker-7.1.0-py3-none-any.whl (147 kB)\n",
      "Downloading google_pasta-0.2.0-py3-none-any.whl (57 kB)\n",
      "Downloading pathos-0.3.3-py3-none-any.whl (82 kB)\n",
      "Downloading schema-0.7.7-py2.py3-none-any.whl (18 kB)\n",
      "Downloading dill-0.3.9-py3-none-any.whl (119 kB)\n",
      "Downloading mock-4.0.3-py3-none-any.whl (28 kB)\n",
      "Downloading multiprocess-0.70.17-py312-none-any.whl (147 kB)\n",
      "Downloading pox-0.3.5-py3-none-any.whl (29 kB)\n",
      "Downloading ppft-1.7.6.9-py3-none-any.whl (56 kB)\n",
      "Downloading zipp-3.20.2-py3-none-any.whl (9.2 kB)\n",
      "Installing collected packages: schema, zipp, types-requests, tblib, smdebug-rulesconfig, protobuf, ppft, pox, platformdirs, parameterized, mock, httpx-sse, google-pasta, fastavro, dill, cloudpickle, attrs, tiktoken, requests-mock, multiprocess, importlib-metadata, docker, pathos, sagemaker-core, sagemaker, cohere, semantic-router\n",
      "  Attempting uninstall: protobuf\n",
      "    Found existing installation: protobuf 5.28.1\n",
      "    Uninstalling protobuf-5.28.1:\n",
      "      Successfully uninstalled protobuf-5.28.1\n",
      "  Attempting uninstall: platformdirs\n",
      "    Found existing installation: platformdirs 3.11.0\n",
      "    Uninstalling platformdirs-3.11.0:\n",
      "      Successfully uninstalled platformdirs-3.11.0\n",
      "  Attempting uninstall: dill\n",
      "    Found existing installation: dill 0.3.8\n",
      "    Uninstalling dill-0.3.8:\n",
      "      Successfully uninstalled dill-0.3.8\n",
      "  Attempting uninstall: attrs\n",
      "    Found existing installation: attrs 24.2.0\n",
      "    Uninstalling attrs-24.2.0:\n",
      "      Successfully uninstalled attrs-24.2.0\n",
      "  Attempting uninstall: multiprocess\n",
      "    Found existing installation: multiprocess 0.70.16\n",
      "    Uninstalling multiprocess-0.70.16:\n",
      "      Successfully uninstalled multiprocess-0.70.16\n",
      "\u001b[31mERROR: pip's dependency resolver does not currently take into account all the packages that are installed. This behaviour is the source of the following dependency conflicts.\n",
      "dvc 3.55.2 requires platformdirs<4,>=3.1.1, but you have platformdirs 4.3.6 which is incompatible.\n",
      "datasets 3.0.0 requires dill<0.3.9,>=0.3.0, but you have dill 0.3.9 which is incompatible.\n",
      "relik 1.0.6 requires datasets<2.15,>=2.13, but you have datasets 3.0.0 which is incompatible.\u001b[0m\u001b[31m\n",
      "\u001b[0mSuccessfully installed attrs-23.2.0 cloudpickle-2.2.1 cohere-5.11.0 dill-0.3.9 docker-7.1.0 fastavro-1.9.7 google-pasta-0.2.0 httpx-sse-0.4.0 importlib-metadata-6.11.0 mock-4.0.3 multiprocess-0.70.17 parameterized-0.9.0 pathos-0.3.3 platformdirs-4.3.6 pox-0.3.5 ppft-1.7.6.9 protobuf-4.25.5 requests-mock-1.12.1 sagemaker-2.232.1 sagemaker-core-1.0.9 schema-0.7.7 semantic-router-0.0.68 smdebug-rulesconfig-1.0.1 tblib-3.0.0 tiktoken-0.7.0 types-requests-2.32.0.20240914 zipp-3.20.2\n",
      "Note: you may need to restart the kernel to use updated packages.\n"
     ]
    }
   ],
   "source": [
    "pip install semantic-router"
   ]
  },
  {
   "cell_type": "code",
   "execution_count": 19,
   "id": "196c29ca-ac7b-43c1-b66f-4665c9cf2ca7",
   "metadata": {},
   "outputs": [
    {
     "name": "stdout",
     "output_type": "stream",
     "text": [
      "sagemaker.config INFO - Not applying SDK defaults from location: /Library/Application Support/sagemaker/config.yaml\n",
      "sagemaker.config INFO - Not applying SDK defaults from location: /Users/katerynakovalenko/Library/Application Support/sagemaker/config.yaml\n"
     ]
    }
   ],
   "source": [
    "from semantic_router.utils.function_call import FunctionSchema"
   ]
  },
  {
   "cell_type": "code",
   "execution_count": 20,
   "id": "466e795f-d29d-498a-ac58-5bce8599d233",
   "metadata": {},
   "outputs": [
    {
     "data": {
      "text/plain": [
       "{'type': 'function',\n",
       " 'function': {'name': 'browser',\n",
       "  'description': 'Search on DuckDuckGo browser by passing the input `q`',\n",
       "  'parameters': {'type': 'object',\n",
       "   'properties': {'q': {'description': None, 'type': 'string'}},\n",
       "   'required': []}}}"
      ]
     },
     "execution_count": 20,
     "metadata": {},
     "output_type": "execute_result"
    }
   ],
   "source": [
    "def browser(q:str) -> str:\n",
    "    \"\"\"Search on DuckDuckGo browser by passing the input `q`\"\"\"\n",
    "    return DuckDuckGoSearchRun().run(q)\n",
    "\n",
    "tool_browser = FunctionSchema(browser).to_ollama()\n",
    "tool_browser"
   ]
  },
  {
   "cell_type": "code",
   "execution_count": 21,
   "id": "23aee11b-2e03-483c-a675-0531be71b9fc",
   "metadata": {},
   "outputs": [],
   "source": [
    "@tool(\"final_answer\")\n",
    "def final_answer(text:str) -> str:\n",
    "    \"\"\"Returns a natural language response to the user by passing the input `text`. \n",
    "    You should provide as much context as possible and specify the source of the information.\n",
    "    \"\"\"\n",
    "    return text"
   ]
  },
  {
   "cell_type": "code",
   "execution_count": 22,
   "id": "5b6b6749-d5fe-4412-a48f-0db3356313c1",
   "metadata": {},
   "outputs": [],
   "source": [
    "prompt = \"\"\"\n",
    "You know everything, you must answer every question from the user, you can use the list of tools provided to you.\n",
    "Your goal is to provide the user with the best possible answer, including key information about the sources and tools used.\n",
    "\n",
    "Note, when using a tool, you provide the tool name and the arguments to use in JSON format. \n",
    "For each call, you MUST ONLY use one tool AND the response format must ALWAYS be in the pattern:\n",
    "```json\n",
    "{\"name\":\"<tool_name>\", \"parameters\": {\"<tool_input_key>\":<tool_input_value>}}\n",
    "```\n",
    "Remember, do NOT use any tool with the same query more than once.\n",
    "Remember, if the user doesn't ask a specific question, you MUST use the `final_answer` tool directly.\n",
    "\n",
    "Every time the user asks a question, you take note of some keywords in the memory.\n",
    "Every time you find some information related to the user's question, you take note of some keywords in the memory.\n",
    "\n",
    "You should aim to collect information from a diverse range of sources before providing the answer to the user. \n",
    "Once you have collected plenty of information to answer the user's question use the `final_answer` tool.\n",
    "\"\"\""
   ]
  },
  {
   "cell_type": "code",
   "execution_count": 23,
   "id": "75184c08-680a-4ad5-bd0c-735e8d9ae75a",
   "metadata": {},
   "outputs": [
    {
     "ename": "AttributeError",
     "evalue": "'dict' object has no attribute 'name'",
     "output_type": "error",
     "traceback": [
      "\u001b[0;31m---------------------------------------------------------------------------\u001b[0m",
      "\u001b[0;31mAttributeError\u001b[0m                            Traceback (most recent call last)",
      "Cell \u001b[0;32mIn[23], line 4\u001b[0m\n\u001b[1;32m      1\u001b[0m dic_tools \u001b[38;5;241m=\u001b[39m {\u001b[38;5;124m\"\u001b[39m\u001b[38;5;124mtool_browser\u001b[39m\u001b[38;5;124m\"\u001b[39m:tool_browser, \n\u001b[1;32m      2\u001b[0m              \u001b[38;5;124m\"\u001b[39m\u001b[38;5;124mfinal_answer\u001b[39m\u001b[38;5;124m\"\u001b[39m:final_answer}\n\u001b[0;32m----> 4\u001b[0m str_tools \u001b[38;5;241m=\u001b[39m \u001b[38;5;124m\"\u001b[39m\u001b[38;5;130;01m\\n\u001b[39;00m\u001b[38;5;124m\"\u001b[39m\u001b[38;5;241m.\u001b[39mjoin([\u001b[38;5;28mstr\u001b[39m(n\u001b[38;5;241m+\u001b[39m\u001b[38;5;241m1\u001b[39m)\u001b[38;5;241m+\u001b[39m\u001b[38;5;124m\"\u001b[39m\u001b[38;5;124m. `\u001b[39m\u001b[38;5;124m\"\u001b[39m\u001b[38;5;241m+\u001b[39m\u001b[38;5;28mstr\u001b[39m(\u001b[43mv\u001b[49m\u001b[38;5;241;43m.\u001b[39;49m\u001b[43mname\u001b[49m)\u001b[38;5;241m+\u001b[39m\u001b[38;5;124m\"\u001b[39m\u001b[38;5;124m`: \u001b[39m\u001b[38;5;124m\"\u001b[39m\u001b[38;5;241m+\u001b[39m\u001b[38;5;28mstr\u001b[39m(v\u001b[38;5;241m.\u001b[39mdescription) \u001b[38;5;28;01mfor\u001b[39;00m n,v \u001b[38;5;129;01min\u001b[39;00m \u001b[38;5;28menumerate\u001b[39m(dic_tools\u001b[38;5;241m.\u001b[39mvalues())])\n\u001b[1;32m      6\u001b[0m prompt_tools \u001b[38;5;241m=\u001b[39m \u001b[38;5;124mf\u001b[39m\u001b[38;5;124m\"\u001b[39m\u001b[38;5;124mYou can use the following tools:\u001b[39m\u001b[38;5;130;01m\\n\u001b[39;00m\u001b[38;5;132;01m{\u001b[39;00mstr_tools\u001b[38;5;132;01m}\u001b[39;00m\u001b[38;5;124m\"\u001b[39m\n\u001b[1;32m      7\u001b[0m \u001b[38;5;28mprint\u001b[39m(prompt_tools)\n",
      "\u001b[0;31mAttributeError\u001b[0m: 'dict' object has no attribute 'name'"
     ]
    }
   ],
   "source": [
    "dic_tools = {\"tool_browser\":tool_browser, \n",
    "             \"final_answer\":final_answer}\n",
    "\n",
    "str_tools = \"\\n\".join([str(n+1)+\". `\"+str(v.name)+\"`: \"+str(v.description) for n,v in enumerate(dic_tools.values())])\n",
    "\n",
    "prompt_tools = f\"You can use the following tools:\\n{str_tools}\"\n",
    "print(prompt_tools)"
   ]
  },
  {
   "cell_type": "code",
   "execution_count": 24,
   "id": "20a9d4b3-3a38-4b64-9182-46a00e049795",
   "metadata": {},
   "outputs": [
    {
     "name": "stdout",
     "output_type": "stream",
     "text": [
      "You can use the following tools:\n",
      "1. `{'type': 'function', 'function': {'name': 'browser', 'description': 'Search on DuckDuckGo browser by passing the input `q`', 'parameters': {'type': 'object', 'properties': {'q': {'description': None, 'type': 'string'}}, 'required': []}}}\n",
      "2. `name='final_answer' description='Returns a natural language response to the user by passing the input `text`. \\n    You should provide as much context as possible and specify the source of the information.' args_schema=<class 'langchain_core.utils.pydantic.final_answer'> func=<function final_answer at 0x28adcd1c0>\n"
     ]
    }
   ],
   "source": [
    "dic_tools = {\"tool_browser\":tool_browser, \n",
    "             \"final_answer\":final_answer}\n",
    "\n",
    "str_tools = \"\\n\".join([str(n+1)+\". `\"+str(v)for n,v in enumerate(dic_tools.values())])\n",
    "\n",
    "prompt_tools = f\"You can use the following tools:\\n{str_tools}\"\n",
    "print(prompt_tools)"
   ]
  },
  {
   "cell_type": "code",
   "execution_count": 29,
   "id": "c6b85548-e710-4317-89fa-0214719951b5",
   "metadata": {},
   "outputs": [
    {
     "ename": "TypeError",
     "evalue": "'StructuredTool' object is not subscriptable",
     "output_type": "error",
     "traceback": [
      "\u001b[0;31m---------------------------------------------------------------------------\u001b[0m",
      "\u001b[0;31mTypeError\u001b[0m                                 Traceback (most recent call last)",
      "Cell \u001b[0;32mIn[29], line 4\u001b[0m\n\u001b[1;32m      1\u001b[0m dic_tools \u001b[38;5;241m=\u001b[39m {\u001b[38;5;124m\"\u001b[39m\u001b[38;5;124mtool_browser\u001b[39m\u001b[38;5;124m\"\u001b[39m:tool_browser, \n\u001b[1;32m      2\u001b[0m              \u001b[38;5;124m\"\u001b[39m\u001b[38;5;124mfinal_answer\u001b[39m\u001b[38;5;124m\"\u001b[39m:final_answer}\n\u001b[0;32m----> 4\u001b[0m str_tools \u001b[38;5;241m=\u001b[39m \u001b[38;5;124m\"\u001b[39m\u001b[38;5;130;01m\\n\u001b[39;00m\u001b[38;5;124m\"\u001b[39m\u001b[38;5;241m.\u001b[39mjoin([\u001b[38;5;28mstr\u001b[39m(n\u001b[38;5;241m+\u001b[39m\u001b[38;5;241m1\u001b[39m)\u001b[38;5;241m+\u001b[39m\u001b[38;5;124m\"\u001b[39m\u001b[38;5;124m. `\u001b[39m\u001b[38;5;124m\"\u001b[39m\u001b[38;5;241m+\u001b[39m\u001b[38;5;28mstr\u001b[39m(\u001b[43mv\u001b[49m\u001b[43m[\u001b[49m\u001b[38;5;124;43m\"\u001b[39;49m\u001b[38;5;124;43mfunction\u001b[39;49m\u001b[38;5;124;43m\"\u001b[39;49m\u001b[43m]\u001b[49m[\u001b[38;5;124m\"\u001b[39m\u001b[38;5;124mname\u001b[39m\u001b[38;5;124m\"\u001b[39m])\u001b[38;5;241m+\u001b[39m\u001b[38;5;124m\"\u001b[39m\u001b[38;5;124m`: \u001b[39m\u001b[38;5;124m\"\u001b[39m\u001b[38;5;241m+\u001b[39m\u001b[38;5;28mstr\u001b[39m(v[\u001b[38;5;124m\"\u001b[39m\u001b[38;5;124mfunction\u001b[39m\u001b[38;5;124m\"\u001b[39m][\u001b[38;5;124m\"\u001b[39m\u001b[38;5;124mdescription\u001b[39m\u001b[38;5;124m\"\u001b[39m]) \u001b[38;5;28;01mfor\u001b[39;00m n,v \u001b[38;5;129;01min\u001b[39;00m \u001b[38;5;28menumerate\u001b[39m(dic_tools\u001b[38;5;241m.\u001b[39mvalues())])\n\u001b[1;32m      6\u001b[0m prompt_tools \u001b[38;5;241m=\u001b[39m \u001b[38;5;124mf\u001b[39m\u001b[38;5;124m\"\u001b[39m\u001b[38;5;124mYou can use the following tools:\u001b[39m\u001b[38;5;130;01m\\n\u001b[39;00m\u001b[38;5;132;01m{\u001b[39;00mstr_tools\u001b[38;5;132;01m}\u001b[39;00m\u001b[38;5;124m\"\u001b[39m\n\u001b[1;32m      7\u001b[0m \u001b[38;5;28mprint\u001b[39m(prompt_tools)\n",
      "\u001b[0;31mTypeError\u001b[0m: 'StructuredTool' object is not subscriptable"
     ]
    }
   ],
   "source": [
    "dic_tools = {\"tool_browser\":tool_browser, \n",
    "             \"final_answer\":final_answer}\n",
    "\n",
    "str_tools = \"\\n\".join([str(n+1)+\". `\"+str(v[\"function\"][\"name\"])+\"`: \"+str(v[\"function\"][\"description\"]) for n,v in enumerate(dic_tools.values())])\n",
    "\n",
    "prompt_tools = f\"You can use the following tools:\\n{str_tools}\"\n",
    "print(prompt_tools)"
   ]
  },
  {
   "cell_type": "code",
   "execution_count": null,
   "id": "4b2b5dca-f37e-474e-a79b-2255e1501231",
   "metadata": {},
   "outputs": [],
   "source": []
  }
 ],
 "metadata": {
  "kernelspec": {
   "display_name": "Python 3 (ipykernel)",
   "language": "python",
   "name": "python3"
  },
  "language_info": {
   "codemirror_mode": {
    "name": "ipython",
    "version": 3
   },
   "file_extension": ".py",
   "mimetype": "text/x-python",
   "name": "python",
   "nbconvert_exporter": "python",
   "pygments_lexer": "ipython3",
   "version": "3.12.6"
  }
 },
 "nbformat": 4,
 "nbformat_minor": 5
}
